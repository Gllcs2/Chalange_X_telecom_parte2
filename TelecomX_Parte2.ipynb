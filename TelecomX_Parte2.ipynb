{
 "cells": [
  {
   "cell_type": "markdown",
   "id": "27a3c37a",
   "metadata": {},
   "source": [
    "# 📊 Predição de Rotatividade de Clientes com Modelos Ensemble\n",
    "\n",
    "Este notebook demonstra a construção de um modelo de **Machine Learning** para prever quais clientes têm maior probabilidade de cancelar um serviço (rotatividade ou *churn*).\n",
    "\n",
    "O fluxo inclui:\n",
    "\n",
    "1. Preparação e exploração inicial dos dados.\n",
    "2. Pré-processamento (normalização e codificação categórica).\n",
    "3. Balanceamento de classes com SMOTE.\n",
    "4. Treinamento de modelos ensemble (Random Forest e Gradient Boosting).\n",
    "5. Avaliação dos resultados por métricas e visualizações.\n",
    "6. Análise de importância das variáveis.\n",
    "\n",
    "---\n"
   ]
  },
  {
   "cell_type": "markdown",
   "id": "4130e90d",
   "metadata": {},
   "source": [
    "## 1️⃣ Importação das Bibliotecas"
   ]
  },
  {
   "cell_type": "code",
   "execution_count": null,
   "id": "693d24b6",
   "metadata": {},
   "outputs": [],
   "source": [
    "# Manipulação de dados\n",
    "import pandas as pd\n",
    "import numpy as np\n",
    "\n",
    "# Visualização\n",
    "import matplotlib.pyplot as plt\n",
    "import seaborn as sns\n",
    "\n",
    "# Pré-processamento e modelagem\n",
    "from sklearn.model_selection import train_test_split\n",
    "from sklearn.preprocessing import StandardScaler, OneHotEncoder\n",
    "from sklearn.compose import ColumnTransformer\n",
    "from sklearn.ensemble import RandomForestClassifier, GradientBoostingClassifier\n",
    "\n",
    "# Métricas e avaliação\n",
    "from sklearn.metrics import classification_report, confusion_matrix, roc_curve, roc_auc_score\n",
    "\n",
    "# Balanceamento\n",
    "from imblearn.over_sampling import SMOTE\n",
    "\n",
    "# Configurações gerais\n",
    "import warnings\n",
    "warnings.filterwarnings('ignore')\n",
    "sns.set_style(\"whitegrid\")\n"
   ]
  },
  {
   "cell_type": "markdown",
   "id": "36f2a616",
   "metadata": {},
   "source": [
    "## 2️⃣ Carregamento e Inspeção Inicial dos Dados"
   ]
  },
  {
   "cell_type": "code",
   "execution_count": null,
   "id": "b162d38c",
   "metadata": {},
   "outputs": [],
   "source": [
    "# Caso esteja no Google Colab, descomente para fazer upload manual\n",
    "# from google.colab import files\n",
    "# uploaded = files.upload()\n",
    "\n",
    "# Leitura do dataset\n",
    "base_clientes = pd.read_csv(\"dados_df.csv\")\n",
    "\n",
    "# Visualização inicial\n",
    "display(base_clientes.head())\n",
    "\n",
    "# Informações gerais\n",
    "base_clientes.info()\n",
    "\n",
    "# Estatísticas descritivas\n",
    "display(base_clientes.describe())\n"
   ]
  },
  {
   "cell_type": "markdown",
   "id": "f030fe9c",
   "metadata": {},
   "source": [
    "## 3️⃣ Análise Exploratória Rápida"
   ]
  },
  {
   "cell_type": "code",
   "execution_count": null,
   "id": "c027aba2",
   "metadata": {},
   "outputs": [],
   "source": [
    "# Verificando valores ausentes\n",
    "valores_faltantes = base_clientes.isnull().sum()\n",
    "print(\"🔍 Valores ausentes por coluna:\")\n",
    "print(valores_faltantes[valores_faltantes > 0])\n",
    "\n",
    "# Distribuição da variável alvo\n",
    "plt.figure(figsize=(5,4))\n",
    "sns.countplot(data=base_clientes, x=\"Rotatividade\", palette=\"muted\")\n",
    "plt.title(\"Distribuição da variável alvo (Rotatividade)\")\n",
    "plt.xlabel(\"Rotatividade (0 = Não, 1 = Sim)\")\n",
    "plt.ylabel(\"Número de clientes\")\n",
    "plt.show()\n"
   ]
  },
  {
   "cell_type": "markdown",
   "id": "fd19b854",
   "metadata": {},
   "source": [
    "## 4️⃣ Pré-processamento dos Dados"
   ]
  },
  {
   "cell_type": "code",
   "execution_count": null,
   "id": "caa3bf13",
   "metadata": {},
   "outputs": [],
   "source": [
    "# Separando features e target\n",
    "X = base_clientes.drop(columns=[\"Rotatividade\"])\n",
    "y = base_clientes[\"Rotatividade\"]\n",
    "\n",
    "# Identificando colunas numéricas e categóricas\n",
    "colunas_num = X.select_dtypes(include=[\"int64\", \"float64\"]).columns\n",
    "colunas_cat = X.select_dtypes(include=[\"object\", \"bool\"]).columns\n",
    "\n",
    "# Pipeline de transformação\n",
    "transformador = ColumnTransformer(\n",
    "    transformers=[\n",
    "        (\"num\", StandardScaler(), colunas_num),\n",
    "        (\"cat\", OneHotEncoder(handle_unknown=\"ignore\"), colunas_cat)\n",
    "    ]\n",
    ")\n",
    "\n",
    "# Divisão treino/teste\n",
    "X_treino, X_teste, y_treino, y_teste = train_test_split(\n",
    "    X, y, test_size=0.2, random_state=42, stratify=y\n",
    ")\n",
    "\n",
    "# Balanceamento com SMOTE no treino\n",
    "smote = SMOTE(random_state=42)\n",
    "X_treino_bal, y_treino_bal = smote.fit_resample(\n",
    "    transformador.fit_transform(X_treino), y_treino\n",
    ")\n",
    "\n",
    "print(f\"Tamanho treino antes do SMOTE: {X_treino.shape[0]}\")\n",
    "print(f\"Tamanho treino depois do SMOTE: {X_treino_bal.shape[0]}\")\n"
   ]
  },
  {
   "cell_type": "markdown",
   "id": "a8c12176",
   "metadata": {},
   "source": [
    "## 5️⃣ Treinamento dos Modelos"
   ]
  },
  {
   "cell_type": "code",
   "execution_count": null,
   "id": "fc5ae7cb",
   "metadata": {},
   "outputs": [],
   "source": [
    "# Random Forest\n",
    "modelo_rf = RandomForestClassifier(n_estimators=200, random_state=42)\n",
    "modelo_rf.fit(X_treino_bal, y_treino_bal)\n",
    "\n",
    "# Gradient Boosting\n",
    "modelo_gb = GradientBoostingClassifier(n_estimators=200, learning_rate=0.1, max_depth=3, random_state=42)\n",
    "modelo_gb.fit(X_treino_bal, y_treino_bal)\n",
    "\n",
    "print(\"✅ Modelos treinados com sucesso!\")\n"
   ]
  },
  {
   "cell_type": "markdown",
   "id": "5ec29fad",
   "metadata": {},
   "source": [
    "## 6️⃣ Avaliação dos Modelos"
   ]
  },
  {
   "cell_type": "code",
   "execution_count": null,
   "id": "f1ae6438",
   "metadata": {},
   "outputs": [],
   "source": [
    "def avaliar_modelo(modelo, nome_modelo):\n",
    "    X_teste_proc = transformador.transform(X_teste)\n",
    "    y_pred = modelo.predict(X_teste_proc)\n",
    "    y_prob = modelo.predict_proba(X_teste_proc)[:, 1]\n",
    "    \n",
    "    print(f\"\\n📊 Resultados para {nome_modelo}:\")\n",
    "    print(classification_report(y_teste, y_pred))\n",
    "    \n",
    "    cm = confusion_matrix(y_teste, y_pred)\n",
    "    sns.heatmap(cm, annot=True, fmt=\"d\", cmap=\"Blues\")\n",
    "    plt.title(f\"Matriz de Confusão - {nome_modelo}\")\n",
    "    plt.xlabel(\"Previsto\")\n",
    "    plt.ylabel(\"Real\")\n",
    "    plt.show()\n",
    "    \n",
    "    fpr, tpr, _ = roc_curve(y_teste, y_prob)\n",
    "    auc_val = roc_auc_score(y_teste, y_prob)\n",
    "    return fpr, tpr, auc_val\n",
    "\n",
    "# Avaliação\n",
    "fpr_rf, tpr_rf, auc_rf = avaliar_modelo(modelo_rf, \"Random Forest\")\n",
    "fpr_gb, tpr_gb, auc_gb = avaliar_modelo(modelo_gb, \"Gradient Boosting\")\n",
    "\n",
    "# Curva ROC\n",
    "plt.figure(figsize=(6,5))\n",
    "plt.plot(fpr_rf, tpr_rf, label=f\"Random Forest (AUC = {auc_rf:.4f})\")\n",
    "plt.plot(fpr_gb, tpr_gb, label=f\"Gradient Boosting (AUC = {auc_gb:.4f})\")\n",
    "plt.plot([0,1], [0,1], \"k--\")\n",
    "plt.title(\"Curva ROC Comparativa\")\n",
    "plt.xlabel(\"Falso Positivo\")\n",
    "plt.ylabel(\"Verdadeiro Positivo\")\n",
    "plt.legend()\n",
    "plt.show()\n"
   ]
  },
  {
   "cell_type": "markdown",
   "id": "d3670e96",
   "metadata": {},
   "source": [
    "## 7️⃣ Importância das Variáveis"
   ]
  },
  {
   "cell_type": "code",
   "execution_count": null,
   "id": "02618b6a",
   "metadata": {},
   "outputs": [],
   "source": [
    "nomes_num = list(colunas_num)\n",
    "nomes_cat_expandidos = list(transformador.named_transformers_[\"cat\"].get_feature_names_out(colunas_cat))\n",
    "nomes_finais = nomes_num + nomes_cat_expandidos\n",
    "\n",
    "def plot_importancia(modelo, nomes_colunas, titulo):\n",
    "    importancias = modelo.feature_importances_\n",
    "    df_import = pd.DataFrame({\n",
    "        \"Variavel\": nomes_colunas,\n",
    "        \"Importancia\": importancias\n",
    "    }).sort_values(by=\"Importancia\", ascending=False).head(15)\n",
    "    \n",
    "    plt.figure(figsize=(8,5))\n",
    "    sns.barplot(data=df_import, x=\"Importancia\", y=\"Variavel\", palette=\"viridis\")\n",
    "    plt.title(f\"Top 15 Variáveis - {titulo}\")\n",
    "    plt.xlabel(\"Importância\")\n",
    "    plt.ylabel(\"Variável\")\n",
    "    plt.show()\n",
    "\n",
    "plot_importancia(modelo_rf, nomes_finais, \"Random Forest\")\n",
    "plot_importancia(modelo_gb, nomes_finais, \"Gradient Boosting\")\n"
   ]
  },
  {
   "cell_type": "markdown",
   "id": "445270dd",
   "metadata": {},
   "source": [
    "## 8️⃣ Conclusões Finais"
   ]
  },
  {
   "cell_type": "markdown",
   "id": "859e9bdb",
   "metadata": {},
   "source": [
    "- O **Gradient Boosting** apresentou ligeira vantagem no AUC, sendo mais eficaz na identificação de clientes propensos a rotatividade.\n",
    "- O **Random Forest** também apresentou bom desempenho, com vantagem na classe majoritária.\n",
    "- O uso de **SMOTE** melhorou o equilíbrio entre as classes no treinamento.\n",
    "- As variáveis mais importantes podem guiar ações estratégicas para retenção de clientes.\n",
    "\n",
    "**Próximos passos**:\n",
    "1. Testar outros modelos (XGBoost, LightGBM).\n",
    "2. Criar um dashboard interativo para acompanhamento.\n",
    "3. Atualizar o modelo periodicamente com novos dados.\n"
   ]
  }
 ],
 "metadata": {},
 "nbformat": 4,
 "nbformat_minor": 5
}
